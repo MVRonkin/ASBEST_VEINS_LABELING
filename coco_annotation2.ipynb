{
 "cells": [
  {
   "cell_type": "code",
   "execution_count": 1,
   "metadata": {},
   "outputs": [],
   "source": [
    "import os\n",
    "from pathlib import Path\n",
    "import shutil\n",
    "from distutils.dir_util import copy_tree\n",
    "\n",
    "import pandas as pd\n",
    "import json\n",
    "import time\n",
    "import datetime\n",
    "from PIL import Image"
   ]
  },
  {
   "cell_type": "code",
   "execution_count": 2,
   "metadata": {},
   "outputs": [],
   "source": [
    "import numpy as np\n",
    "import matplotlib.pyplot as plt\n",
    "from pycocotools.coco import COCO\n",
    "import scipy.stats\n",
    "import itertools\n",
    "\n",
    "# https://github.com/qwirky-yuzu/COCO-to-YOLO/blob/main/coco_to_yolo.py\n",
    "# https://github.com/pylabel-project/samples/blob/main/coco2yolov5.ipynb\n",
    "try:\n",
    "    import pylabel\n",
    "except:\n",
    "    !pip install pylabel\n",
    "finally:\n",
    "    from pylabel import importer\n",
    "\n",
    "import matplotlib.patches as patches\n",
    "import matplotlib\n",
    "import matplotlib.colors as mcolors\n",
    "\n",
    "plt.rcParams.update({'font.size': 22})\n",
    "style_label = 'fivethirtyeight' #plt.style.available "
   ]
  },
  {
   "cell_type": "code",
   "execution_count": 3,
   "metadata": {},
   "outputs": [],
   "source": [
    "import labelutilits as utl"
   ]
  },
  {
   "cell_type": "code",
   "execution_count": 4,
   "metadata": {},
   "outputs": [],
   "source": [
    "try:\n",
    "    import dsatools \n",
    "except:\n",
    "    !pip install dsatools\n",
    "finally:\n",
    "    import dsatools.utilits as ut"
   ]
  },
  {
   "cell_type": "code",
   "execution_count": 5,
   "metadata": {},
   "outputs": [
    {
     "name": "stdout",
     "output_type": "stream",
     "text": [
      "['labelutilits', 'part1', 'part2', 'part3', 'part4', 'part5', 'part6', 'part7', 'part8', 'part9', 'train']\n"
     ]
    },
    {
     "data": {
      "text/plain": [
       "'D:\\\\ASBEST!\\\\ALLVEINS\\\\train\\\\annotation.json'"
      ]
     },
     "execution_count": 5,
     "metadata": {},
     "output_type": "execute_result"
    }
   ],
   "source": [
    "path = os.getcwd() \n",
    "print(utl.list_dirs(path))\n",
    "anno_path = utl.get_anno_path(path,'train')\n",
    "anno_path"
   ]
  },
  {
   "cell_type": "code",
   "execution_count": 6,
   "metadata": {},
   "outputs": [
    {
     "name": "stdout",
     "output_type": "stream",
     "text": [
      "loading annotations into memory...\n",
      "Done (t=0.10s)\n",
      "creating index...\n",
      "index created!\n"
     ]
    },
    {
     "data": {
      "text/plain": [
       "{'name': 'train',\n",
       " 'anno_path': 'D:\\\\ASBEST!\\\\ALLVEINS\\\\train\\\\annotation.json',\n",
       " 'anno_fname': 'annotation.json',\n",
       " 'image_dir_path': 'D:\\\\ASBEST!\\\\ALLVEINS\\\\train',\n",
       " 'length': 249,\n",
       " 'anno_number': 4237,\n",
       " 'class_id': [1, 2],\n",
       " 'class_names': ['asbest', 'stone'],\n",
       " 'height': [2048, 3456],\n",
       " 'width': [2592, 5184],\n",
       " 'COCO_obj': <pycocotools.coco.COCO at 0x2351f843a58>,\n",
       " 'image_fname_example': 'D:\\\\ASBEST!\\\\ALLVEINS\\\\train\\\\14-02-21_5_1_9_part1.bmp'}"
      ]
     },
     "execution_count": 6,
     "metadata": {},
     "output_type": "execute_result"
    }
   ],
   "source": [
    "utl.anno_info(anno_path)"
   ]
  },
  {
   "cell_type": "code",
   "execution_count": 10,
   "metadata": {
    "scrolled": true
   },
   "outputs": [
    {
     "data": {
      "text/plain": [
       "{'cat_ids': [1],\n",
       " 'class_names': ['asbest'],\n",
       " 'supercategory': [''],\n",
       " 'width': [2592],\n",
       " 'height': [2048],\n",
       " 'length': 203,\n",
       " 'anno_number': 3729,\n",
       " 'fname_example': 'D:\\\\ASBEST!\\\\ALLVEINS\\\\train\\\\14-02-21_5_1_9_part1.bmp',\n",
       " 'image_dir_path': 'D:\\\\ASBEST!\\\\ALLVEINS\\\\train',\n",
       " 'dataset_name': 'ALLVEINS',\n",
       " 'anno_path': 'D:\\\\ASBEST!\\\\ALLVEINS\\\\train\\\\annotation.json',\n",
       " 'anno_fname': 'annotation.json'}"
      ]
     },
     "execution_count": 10,
     "metadata": {},
     "output_type": "execute_result"
    }
   ],
   "source": [
    "anno = utl.Annotation(anno_path).\\\n",
    "        set_cat_names(new_names = ['stones', 'asbest']).\\\n",
    "        filter_cat(cat_ids=[2]).\\\n",
    "        replace_image_dir().rest_ids().\\\n",
    "        correct_images_size().save('veins_anno.json')\n",
    "anno.info()"
   ]
  },
  {
   "cell_type": "code",
   "execution_count": 13,
   "metadata": {},
   "outputs": [],
   "source": [
    "data = anno.data"
   ]
  },
  {
   "cell_type": "code",
   "execution_count": 11,
   "metadata": {},
   "outputs": [
    {
     "data": {
      "text/plain": [
       "{'cat_ids': [1],\n",
       " 'class_names': ['stones'],\n",
       " 'supercategory': [''],\n",
       " 'width': [2592],\n",
       " 'height': [2048],\n",
       " 'length': 102,\n",
       " 'anno_number': 508,\n",
       " 'fname_example': 'D:\\\\ASBEST!\\\\ALLVEINS\\\\train\\\\11-11-2021-12-25-32_1_1_63_detailed_part7.bmp',\n",
       " 'image_dir_path': 'D:\\\\ASBEST!\\\\ALLVEINS\\\\train',\n",
       " 'dataset_name': 'ALLVEINS',\n",
       " 'anno_path': 'D:\\\\ASBEST!\\\\ALLVEINS\\\\train\\\\annotation.json',\n",
       " 'anno_fname': 'annotation.json'}"
      ]
     },
     "execution_count": 11,
     "metadata": {},
     "output_type": "execute_result"
    }
   ],
   "source": [
    "anno = utl.Annotation(anno_path).\\\n",
    "        set_cat_names(new_names = ['stones', 'asbest']).\\\n",
    "        filter_cat(cat_ids=[1]).\\\n",
    "        replace_image_dir().\\\n",
    "        correct_images_size().rest_ids().save('stone_anno.json')\n",
    "anno.info()"
   ]
  },
  {
   "cell_type": "code",
   "execution_count": null,
   "metadata": {},
   "outputs": [],
   "source": []
  },
  {
   "cell_type": "code",
   "execution_count": 24,
   "metadata": {},
   "outputs": [],
   "source": [
    "with open(anno_path) as json_file:\n",
    "    data = json.load(json_file)\n",
    "    json_file.close()"
   ]
  },
  {
   "cell_type": "code",
   "execution_count": null,
   "metadata": {},
   "outputs": [],
   "source": []
  }
 ],
 "metadata": {
  "kernelspec": {
   "display_name": "Python 3",
   "language": "python",
   "name": "python3"
  },
  "language_info": {
   "codemirror_mode": {
    "name": "ipython",
    "version": 3
   },
   "file_extension": ".py",
   "mimetype": "text/x-python",
   "name": "python",
   "nbconvert_exporter": "python",
   "pygments_lexer": "ipython3",
   "version": "3.8.15 (default, Oct 12 2022, 19:14:39) \n[GCC 7.5.0]"
  },
  "toc": {
   "base_numbering": 1,
   "nav_menu": {},
   "number_sections": true,
   "sideBar": true,
   "skip_h1_title": false,
   "title_cell": "Table of Contents",
   "title_sidebar": "Contents",
   "toc_cell": false,
   "toc_position": {},
   "toc_section_display": true,
   "toc_window_display": false
  },
  "vscode": {
   "interpreter": {
    "hash": "df0893f56f349688326838aaeea0de204df53a132722cbd565e54b24a8fec5f6"
   }
  }
 },
 "nbformat": 4,
 "nbformat_minor": 4
}
