{
 "cells": [
  {
   "cell_type": "code",
   "execution_count": 1,
   "metadata": {},
   "outputs": [],
   "source": [
    "import os\n",
    "from pathlib import Path\n",
    "import shutil\n",
    "from distutils.dir_util import copy_tree\n",
    "\n",
    "import pandas as pd\n",
    "import json\n",
    "import time\n",
    "import datetime\n",
    "from PIL import Image"
   ]
  },
  {
   "cell_type": "code",
   "execution_count": 2,
   "metadata": {},
   "outputs": [],
   "source": [
    "import numpy as np\n",
    "import matplotlib.pyplot as plt\n",
    "from pycocotools.coco import COCO\n",
    "import scipy.stats\n",
    "import itertools\n",
    "\n",
    "import matplotlib.patches as patches\n",
    "import matplotlib\n",
    "import matplotlib.colors as mcolors\n",
    "\n",
    "plt.rcParams.update({'font.size': 22})\n",
    "style_label = 'fivethirtyeight' #plt.style.available "
   ]
  },
  {
   "cell_type": "code",
   "execution_count": 3,
   "metadata": {},
   "outputs": [],
   "source": [
    "import labelutilits as utl"
   ]
  },
  {
   "cell_type": "code",
   "execution_count": 4,
   "metadata": {},
   "outputs": [],
   "source": [
    "try:\n",
    "    import pylabel\n",
    "except:\n",
    "    !pip install pylabel\n",
    "finally:\n",
    "    from pylabel import importer"
   ]
  },
  {
   "cell_type": "code",
   "execution_count": 5,
   "metadata": {},
   "outputs": [],
   "source": [
    "try:\n",
    "    import dsatools \n",
    "except:\n",
    "    !pip install dsatools\n",
    "finally:\n",
    "    import dsatools.utilits as ut"
   ]
  },
  {
   "cell_type": "markdown",
   "metadata": {},
   "source": [
    "### SEARCH FOR DATABASE PARTS"
   ]
  },
  {
   "cell_type": "code",
   "execution_count": 6,
   "metadata": {},
   "outputs": [
    {
     "name": "stdout",
     "output_type": "stream",
     "text": [
      "['labelutilits', 'part1', 'part2', 'part3', 'part4', 'part5', 'part6', 'part7', 'part8', 'part9']\n"
     ]
    }
   ],
   "source": [
    "path = os.getcwd() # PROJECT PATH\n",
    "dir_names = utl.list_dirs(path)\n",
    "print(dir_names)"
   ]
  },
  {
   "cell_type": "code",
   "execution_count": 7,
   "metadata": {},
   "outputs": [
    {
     "name": "stdout",
     "output_type": "stream",
     "text": [
      "DATABASE PARTS: ['part1', 'part2', 'part3', 'part4', 'part5', 'part6', 'part7', 'part8', 'part9']\n"
     ]
    }
   ],
   "source": [
    "path = os.getcwd() # PROJECT PATH\n",
    "dir_names = utl.list_dirs(path)[1:] #VALID DATABASE \n",
    "print('DATABASE PARTS:', dir_names)"
   ]
  },
  {
   "cell_type": "code",
   "execution_count": 8,
   "metadata": {},
   "outputs": [
    {
     "name": "stdout",
     "output_type": "stream",
     "text": [
      "Example of data part D:\\ASBEST!\\ALLVEINS\\part2\\part2.json\n",
      "\n",
      "Data part content\n",
      "dirs []\n",
      "content {'images': 225, 'dirs': 0, 'json': 1, 'xml': 1, 'csv': 0, 'txt': 0, 'other': 0}\n",
      "not content []\n",
      "anno cvat ['part2.json']\n",
      "anno xml ['annotations.xml']\n",
      "cnt img content 225\n",
      "\n",
      "Search for labeled objects in the data dir\n",
      "loading annotations into memory...\n",
      "Done (t=0.00s)\n",
      "creating index...\n",
      "index created!\n"
     ]
    },
    {
     "data": {
      "text/plain": [
       "[143, 170, 178, 191, 193, 219, 224]"
      ]
     },
     "execution_count": 8,
     "metadata": {},
     "output_type": "execute_result"
    }
   ],
   "source": [
    "dir_id = 1\n",
    "anno_path = utl.get_anno_path(path, dir_names[dir_id])\n",
    "print('Example of data part', anno_path)\n",
    "print('\\nData part content')\n",
    "utl.print_dir_description(dir_names[dir_id])\n",
    "print('\\nSearch for labeled objects in the data dir')\n",
    "labeld_image_ids = utl.check_anno_labels(anno_path, cat_ids = None)\n",
    "labeld_image_ids"
   ]
  },
  {
   "cell_type": "markdown",
   "metadata": {},
   "source": [
    "### CREATE data with labeled annotations"
   ]
  },
  {
   "cell_type": "code",
   "execution_count": 9,
   "metadata": {},
   "outputs": [
    {
     "name": "stdout",
     "output_type": "stream",
     "text": [
      "\n",
      "part1\n",
      "loading annotations into memory...\n",
      "Done (t=0.05s)\n",
      "creating index...\n",
      "index created!\n",
      "images:69.0, instances:1736\n",
      "\n",
      "part2\n",
      "loading annotations into memory...\n",
      "Done (t=0.01s)\n",
      "creating index...\n",
      "index created!\n",
      "images:7.0, instances:120\n",
      "\n",
      "part3\n",
      "loading annotations into memory...\n",
      "Done (t=0.01s)\n",
      "creating index...\n",
      "index created!\n",
      "images:53.0, instances:501\n",
      "\n",
      "part4\n",
      "loading annotations into memory...\n",
      "Done (t=0.00s)\n",
      "creating index...\n",
      "index created!\n",
      "No labeled data\n",
      "\n",
      "part5\n",
      "loading annotations into memory...\n",
      "Done (t=0.00s)\n",
      "creating index...\n",
      "index created!\n",
      "No labeled data\n",
      "\n",
      "part6\n",
      "loading annotations into memory...\n",
      "Done (t=0.01s)\n",
      "creating index...\n",
      "index created!\n",
      "images:18.0, instances:108\n",
      "\n",
      "part7\n",
      "loading annotations into memory...\n",
      "Done (t=0.01s)\n",
      "creating index...\n",
      "index created!\n",
      "images:13.0, instances:64\n",
      "\n",
      "part8\n",
      "loading annotations into memory...\n",
      "Done (t=0.01s)\n",
      "creating index...\n",
      "index created!\n",
      "images:33.0, instances:259\n",
      "\n",
      "part9\n",
      "loading annotations into memory...\n",
      "Done (t=0.05s)\n",
      "creating index...\n",
      "index created!\n",
      "images:56.0, instances:1449\n"
     ]
    }
   ],
   "source": [
    "path = os.getcwd() \n",
    "dir_names = utl.list_dirs(path)[1:]\n",
    "\n",
    "annodf = utl.collec_newanno(path, dir_names)"
   ]
  },
  {
   "cell_type": "code",
   "execution_count": 10,
   "metadata": {},
   "outputs": [
    {
     "data": {
      "text/html": [
       "<div>\n",
       "<style scoped>\n",
       "    .dataframe tbody tr th:only-of-type {\n",
       "        vertical-align: middle;\n",
       "    }\n",
       "\n",
       "    .dataframe tbody tr th {\n",
       "        vertical-align: top;\n",
       "    }\n",
       "\n",
       "    .dataframe thead th {\n",
       "        text-align: right;\n",
       "    }\n",
       "</style>\n",
       "<table border=\"1\" class=\"dataframe\">\n",
       "  <thead>\n",
       "    <tr style=\"text-align: right;\">\n",
       "      <th></th>\n",
       "      <th>anno</th>\n",
       "      <th>class_id</th>\n",
       "      <th>class_names</th>\n",
       "      <th>img_desc</th>\n",
       "      <th>new_anno_ids</th>\n",
       "      <th>new_file_name</th>\n",
       "      <th>new_image_id</th>\n",
       "      <th>old_anno_ids</th>\n",
       "      <th>old_file_name</th>\n",
       "      <th>old_image_id</th>\n",
       "    </tr>\n",
       "  </thead>\n",
       "  <tbody>\n",
       "    <tr>\n",
       "      <th>189</th>\n",
       "      <td>[{'id': 2757, 'image_id': 190, 'category_id': ...</td>\n",
       "      <td>[1, 2]</td>\n",
       "      <td>[stone, asbest]</td>\n",
       "      <td>{'id': 190, 'width': 2592, 'height': 2048, 'fi...</td>\n",
       "      <td>[2757, 2758, 2759, 2760, 2761, 2762, 2763, 276...</td>\n",
       "      <td>D:\\ASBEST!\\ALLVEINS\\part8\\ManualDetailedImage_...</td>\n",
       "      <td>190.0</td>\n",
       "      <td>[228, 229, 230, 231, 232, 233, 234, 235, 236, ...</td>\n",
       "      <td>ManualDetailedImage_12_52_28_150.bmp</td>\n",
       "      <td>30.0</td>\n",
       "    </tr>\n",
       "  </tbody>\n",
       "</table>\n",
       "</div>"
      ],
      "text/plain": [
       "                                                  anno class_id  \\\n",
       "189  [{'id': 2757, 'image_id': 190, 'category_id': ...   [1, 2]   \n",
       "\n",
       "         class_names                                           img_desc  \\\n",
       "189  [stone, asbest]  {'id': 190, 'width': 2592, 'height': 2048, 'fi...   \n",
       "\n",
       "                                          new_anno_ids  \\\n",
       "189  [2757, 2758, 2759, 2760, 2761, 2762, 2763, 276...   \n",
       "\n",
       "                                         new_file_name  new_image_id  \\\n",
       "189  D:\\ASBEST!\\ALLVEINS\\part8\\ManualDetailedImage_...         190.0   \n",
       "\n",
       "                                          old_anno_ids  \\\n",
       "189  [228, 229, 230, 231, 232, 233, 234, 235, 236, ...   \n",
       "\n",
       "                            old_file_name  old_image_id  \n",
       "189  ManualDetailedImage_12_52_28_150.bmp          30.0  "
      ]
     },
     "execution_count": 10,
     "metadata": {},
     "output_type": "execute_result"
    }
   ],
   "source": [
    "annodf.sample(1)"
   ]
  },
  {
   "cell_type": "markdown",
   "metadata": {},
   "source": [
    "### CREATE NEW JSON FILE WITH ANNOTATION"
   ]
  },
  {
   "cell_type": "code",
   "execution_count": 11,
   "metadata": {},
   "outputs": [
    {
     "name": "stdout",
     "output_type": "stream",
     "text": [
      "D:\\ASBEST!\\ALLVEINS\\annotation.json\n"
     ]
    }
   ],
   "source": [
    "new_anno_path  = utl.create_json(annodf, new_anno_name = 'annotation.json')\n",
    "print(new_anno_path)"
   ]
  },
  {
   "cell_type": "code",
   "execution_count": 12,
   "metadata": {},
   "outputs": [
    {
     "name": "stdout",
     "output_type": "stream",
     "text": [
      "loading annotations into memory...\n",
      "Done (t=0.10s)\n",
      "creating index...\n",
      "index created!\n"
     ]
    },
    {
     "data": {
      "text/plain": [
       "{'name': 'ALLVEINS',\n",
       " 'anno_path': 'D:\\\\ASBEST!\\\\ALLVEINS\\\\annotation.json',\n",
       " 'anno_fname': 'annotation.json',\n",
       " 'image_dir_path': 'D:\\\\ASBEST!\\\\ALLVEINS',\n",
       " 'length': 249,\n",
       " 'anno_number': 4237,\n",
       " 'class_id': [1, 2],\n",
       " 'class_names': ['asbest', 'stone'],\n",
       " 'height': [2048, 3456],\n",
       " 'width': [2592, 5184],\n",
       " 'COCO_obj': <pycocotools.coco.COCO at 0x187f13944a8>,\n",
       " 'image_fname_example': 'D:\\\\ASBEST!\\\\ALLVEINS\\\\part1\\\\14-02-21_5_1_9.bmp'}"
      ]
     },
     "execution_count": 12,
     "metadata": {},
     "output_type": "execute_result"
    }
   ],
   "source": [
    "utl.anno_info(new_anno_path, image_dir_path = None)"
   ]
  },
  {
   "cell_type": "markdown",
   "metadata": {},
   "source": [
    "### COPY ALL LABELED DATA INTO ONE DIRECTORY"
   ]
  },
  {
   "cell_type": "code",
   "execution_count": 13,
   "metadata": {},
   "outputs": [
    {
     "name": "stdout",
     "output_type": "stream",
     "text": [
      "Directory D:\\ASBEST!\\ALLVEINS\\train created\n"
     ]
    }
   ],
   "source": [
    "df, anno_path = utl.copy2train(new_anno_path, new_img_dir = 'train', project_path = None, copy_anno=True )"
   ]
  },
  {
   "cell_type": "code",
   "execution_count": 14,
   "metadata": {},
   "outputs": [
    {
     "data": {
      "text/html": [
       "<div>\n",
       "<style scoped>\n",
       "    .dataframe tbody tr th:only-of-type {\n",
       "        vertical-align: middle;\n",
       "    }\n",
       "\n",
       "    .dataframe tbody tr th {\n",
       "        vertical-align: top;\n",
       "    }\n",
       "\n",
       "    .dataframe thead th {\n",
       "        text-align: right;\n",
       "    }\n",
       "</style>\n",
       "<table border=\"1\" class=\"dataframe\">\n",
       "  <thead>\n",
       "    <tr style=\"text-align: right;\">\n",
       "      <th></th>\n",
       "      <th>copied</th>\n",
       "      <th>new file name</th>\n",
       "      <th>new path</th>\n",
       "      <th>old path</th>\n",
       "    </tr>\n",
       "  </thead>\n",
       "  <tbody>\n",
       "    <tr>\n",
       "      <th>68</th>\n",
       "      <td>True</td>\n",
       "      <td>15-05-06_26_2_8_part1.bmp</td>\n",
       "      <td>D:\\ASBEST!\\ALLVEINS\\train\\15-05-06_26_2_8_part...</td>\n",
       "      <td>D:\\ASBEST!\\ALLVEINS\\part1\\15-05-06_26_2_8.bmp</td>\n",
       "    </tr>\n",
       "  </tbody>\n",
       "</table>\n",
       "</div>"
      ],
      "text/plain": [
       "   copied              new file name  \\\n",
       "68   True  15-05-06_26_2_8_part1.bmp   \n",
       "\n",
       "                                             new path  \\\n",
       "68  D:\\ASBEST!\\ALLVEINS\\train\\15-05-06_26_2_8_part...   \n",
       "\n",
       "                                         old path  \n",
       "68  D:\\ASBEST!\\ALLVEINS\\part1\\15-05-06_26_2_8.bmp  "
      ]
     },
     "execution_count": 14,
     "metadata": {},
     "output_type": "execute_result"
    }
   ],
   "source": [
    "df.sample(1)"
   ]
  },
  {
   "cell_type": "code",
   "execution_count": 15,
   "metadata": {},
   "outputs": [
    {
     "name": "stdout",
     "output_type": "stream",
     "text": [
      "loading annotations into memory...\n",
      "Done (t=0.11s)\n",
      "creating index...\n",
      "index created!\n"
     ]
    },
    {
     "data": {
      "text/plain": [
       "{'name': 'train',\n",
       " 'anno_path': 'D:\\\\ASBEST!\\\\ALLVEINS\\\\train\\\\annotation.json',\n",
       " 'anno_fname': 'annotation.json',\n",
       " 'image_dir_path': 'D:\\\\ASBEST!\\\\ALLVEINS\\\\train',\n",
       " 'length': 249,\n",
       " 'anno_number': 4237,\n",
       " 'class_id': [1, 2],\n",
       " 'class_names': ['asbest', 'stone'],\n",
       " 'height': [2048, 3456],\n",
       " 'width': [2592, 5184],\n",
       " 'COCO_obj': <pycocotools.coco.COCO at 0x187f0d6eb38>,\n",
       " 'image_fname_example': 'D:\\\\ASBEST!\\\\ALLVEINS\\\\train\\\\14-02-21_5_1_9_part1.bmp'}"
      ]
     },
     "execution_count": 15,
     "metadata": {},
     "output_type": "execute_result"
    }
   ],
   "source": [
    "utl.anno_info(anno_path)"
   ]
  },
  {
   "cell_type": "code",
   "execution_count": null,
   "metadata": {},
   "outputs": [],
   "source": []
  },
  {
   "cell_type": "code",
   "execution_count": null,
   "metadata": {},
   "outputs": [],
   "source": []
  },
  {
   "cell_type": "code",
   "execution_count": null,
   "metadata": {},
   "outputs": [],
   "source": []
  }
 ],
 "metadata": {
  "kernelspec": {
   "display_name": "Python 3",
   "language": "python",
   "name": "python3"
  },
  "language_info": {
   "codemirror_mode": {
    "name": "ipython",
    "version": 3
   },
   "file_extension": ".py",
   "mimetype": "text/x-python",
   "name": "python",
   "nbconvert_exporter": "python",
   "pygments_lexer": "ipython3",
   "version": "3.7.0"
  },
  "toc": {
   "base_numbering": 1,
   "nav_menu": {},
   "number_sections": true,
   "sideBar": true,
   "skip_h1_title": false,
   "title_cell": "Table of Contents",
   "title_sidebar": "Contents",
   "toc_cell": false,
   "toc_position": {},
   "toc_section_display": true,
   "toc_window_display": false
  }
 },
 "nbformat": 4,
 "nbformat_minor": 4
}
